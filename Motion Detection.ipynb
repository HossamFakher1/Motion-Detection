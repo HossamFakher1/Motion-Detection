{
 "cells": [
  {
   "cell_type": "code",
   "execution_count": 1,
   "metadata": {},
   "outputs": [],
   "source": [
    "import cv2 \n",
    "import numpy"
   ]
  },
  {
   "cell_type": "code",
   "execution_count": 4,
   "metadata": {},
   "outputs": [],
   "source": [
    "cap=cv2.VideoCapture('Test.mp4')\n",
    "_,frame1=cap.read()\n",
    "_,frame2=cap.read()\n",
    "\n",
    "while cap.isOpened() :\n",
    "    diff=cv2.absdiff(frame1,frame2)\n",
    "    gray=cv2.cvtColor(diff,cv2.COLOR_BGR2GRAY)\n",
    "    blur=cv2.GaussianBlur(gray,(5,5),0)\n",
    "    _,thresh=cv2.threshold(blur,60,255,cv2.THRESH_BINARY)\n",
    "    dilated=cv2.dilate(thresh,None,iterations=10)\n",
    "    contours,_ =cv2.findContours(dilated, cv2.RETR_TREE\n",
    "                                 ,cv2.CHAIN_APPROX_NONE)\n",
    "    for contour in contours :\n",
    "        (x,y,w,h)=cv2.boundingRect(contour)\n",
    "        \n",
    "        if cv2.contourArea(contour) <900 :\n",
    "            continue\n",
    "        cv2.rectangle(frame1,(x,y),(x+w,y+h),(0,255,0),2)\n",
    "        cv2.putText(frame1,'State Movement',(10,20),\n",
    "                    cv2.FONT_HERSHEY_SIMPLEX,1,(0,255,0),3)\n",
    "    \n",
    "    \n",
    "    cv2.imshow(\"motion Detection\",frame1)\n",
    "    \n",
    "    frame1=frame2\n",
    "    _,frame2=cap.read()\n",
    "    \n",
    "    if cv2.waitKey(60)== 27:\n",
    "        break\n",
    "cv2.destroyAllWindows()\n",
    "cap.release()"
   ]
  },
  {
   "cell_type": "code",
   "execution_count": 6,
   "metadata": {},
   "outputs": [],
   "source": []
  },
  {
   "cell_type": "code",
   "execution_count": null,
   "metadata": {},
   "outputs": [],
   "source": []
  }
 ],
 "metadata": {
  "kernelspec": {
   "display_name": "Python 3",
   "language": "python",
   "name": "python3"
  },
  "language_info": {
   "codemirror_mode": {
    "name": "ipython",
    "version": 3
   },
   "file_extension": ".py",
   "mimetype": "text/x-python",
   "name": "python",
   "nbconvert_exporter": "python",
   "pygments_lexer": "ipython3",
   "version": "3.8.5"
  }
 },
 "nbformat": 4,
 "nbformat_minor": 5
}
